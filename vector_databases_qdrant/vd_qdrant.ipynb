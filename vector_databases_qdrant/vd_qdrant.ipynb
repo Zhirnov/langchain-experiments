{
 "cells": [
  {
   "cell_type": "code",
   "execution_count": 21,
   "metadata": {},
   "outputs": [
    {
     "name": "stdout",
     "output_type": "stream",
     "text": [
      "Requirement already satisfied: langchain in /Users/ivanzhirnov/Downloads/ds_related/projects/langchain-experiments/env/lib/python3.11/site-packages (0.0.173)\n",
      "Requirement already satisfied: qdrant_client in /Users/ivanzhirnov/Downloads/ds_related/projects/langchain-experiments/env/lib/python3.11/site-packages (1.3.2)\n",
      "Requirement already satisfied: openai in /Users/ivanzhirnov/Downloads/ds_related/projects/langchain-experiments/env/lib/python3.11/site-packages (0.27.6)\n",
      "Requirement already satisfied: tiktoken in /Users/ivanzhirnov/Downloads/ds_related/projects/langchain-experiments/env/lib/python3.11/site-packages (0.4.0)\n",
      "Requirement already satisfied: pypdf in /Users/ivanzhirnov/Downloads/ds_related/projects/langchain-experiments/env/lib/python3.11/site-packages (3.8.1)\n",
      "Requirement already satisfied: PyYAML>=5.4.1 in /Users/ivanzhirnov/Downloads/ds_related/projects/langchain-experiments/env/lib/python3.11/site-packages (from langchain) (6.0)\n",
      "Requirement already satisfied: SQLAlchemy<3,>=1.4 in /Users/ivanzhirnov/Downloads/ds_related/projects/langchain-experiments/env/lib/python3.11/site-packages (from langchain) (2.0.14)\n",
      "Requirement already satisfied: aiohttp<4.0.0,>=3.8.3 in /Users/ivanzhirnov/Downloads/ds_related/projects/langchain-experiments/env/lib/python3.11/site-packages (from langchain) (3.8.4)\n",
      "Requirement already satisfied: dataclasses-json<0.6.0,>=0.5.7 in /Users/ivanzhirnov/Downloads/ds_related/projects/langchain-experiments/env/lib/python3.11/site-packages (from langchain) (0.5.7)\n",
      "Requirement already satisfied: numexpr<3.0.0,>=2.8.4 in /Users/ivanzhirnov/Downloads/ds_related/projects/langchain-experiments/env/lib/python3.11/site-packages (from langchain) (2.8.4)\n",
      "Requirement already satisfied: numpy<2,>=1 in /Users/ivanzhirnov/Downloads/ds_related/projects/langchain-experiments/env/lib/python3.11/site-packages (from langchain) (1.24.3)\n",
      "Requirement already satisfied: openapi-schema-pydantic<2.0,>=1.2 in /Users/ivanzhirnov/Downloads/ds_related/projects/langchain-experiments/env/lib/python3.11/site-packages (from langchain) (1.2.4)\n",
      "Requirement already satisfied: pydantic<2,>=1 in /Users/ivanzhirnov/Downloads/ds_related/projects/langchain-experiments/env/lib/python3.11/site-packages (from langchain) (1.10.12)\n",
      "Requirement already satisfied: requests<3,>=2 in /Users/ivanzhirnov/Downloads/ds_related/projects/langchain-experiments/env/lib/python3.11/site-packages (from langchain) (2.30.0)\n",
      "Requirement already satisfied: tenacity<9.0.0,>=8.1.0 in /Users/ivanzhirnov/Downloads/ds_related/projects/langchain-experiments/env/lib/python3.11/site-packages (from langchain) (8.2.2)\n",
      "Requirement already satisfied: grpcio>=1.41.0 in /Users/ivanzhirnov/Downloads/ds_related/projects/langchain-experiments/env/lib/python3.11/site-packages (from qdrant_client) (1.56.2)\n",
      "Requirement already satisfied: grpcio-tools>=1.41.0 in /Users/ivanzhirnov/Downloads/ds_related/projects/langchain-experiments/env/lib/python3.11/site-packages (from qdrant_client) (1.56.2)\n",
      "Requirement already satisfied: httpx[http2]>=0.14.0 in /Users/ivanzhirnov/Downloads/ds_related/projects/langchain-experiments/env/lib/python3.11/site-packages (from qdrant_client) (0.24.1)\n",
      "Requirement already satisfied: portalocker<3.0.0,>=2.7.0 in /Users/ivanzhirnov/Downloads/ds_related/projects/langchain-experiments/env/lib/python3.11/site-packages (from qdrant_client) (2.7.0)\n",
      "Requirement already satisfied: urllib3<2.0.0,>=1.26.14 in /Users/ivanzhirnov/Downloads/ds_related/projects/langchain-experiments/env/lib/python3.11/site-packages (from qdrant_client) (1.26.15)\n",
      "Requirement already satisfied: tqdm in /Users/ivanzhirnov/Downloads/ds_related/projects/langchain-experiments/env/lib/python3.11/site-packages (from openai) (4.65.0)\n",
      "Requirement already satisfied: regex>=2022.1.18 in /Users/ivanzhirnov/Downloads/ds_related/projects/langchain-experiments/env/lib/python3.11/site-packages (from tiktoken) (2023.5.5)\n",
      "Requirement already satisfied: attrs>=17.3.0 in /Users/ivanzhirnov/Downloads/ds_related/projects/langchain-experiments/env/lib/python3.11/site-packages (from aiohttp<4.0.0,>=3.8.3->langchain) (23.1.0)\n",
      "Requirement already satisfied: charset-normalizer<4.0,>=2.0 in /Users/ivanzhirnov/Downloads/ds_related/projects/langchain-experiments/env/lib/python3.11/site-packages (from aiohttp<4.0.0,>=3.8.3->langchain) (3.1.0)\n",
      "Requirement already satisfied: multidict<7.0,>=4.5 in /Users/ivanzhirnov/Downloads/ds_related/projects/langchain-experiments/env/lib/python3.11/site-packages (from aiohttp<4.0.0,>=3.8.3->langchain) (6.0.4)\n",
      "Requirement already satisfied: async-timeout<5.0,>=4.0.0a3 in /Users/ivanzhirnov/Downloads/ds_related/projects/langchain-experiments/env/lib/python3.11/site-packages (from aiohttp<4.0.0,>=3.8.3->langchain) (4.0.2)\n",
      "Requirement already satisfied: yarl<2.0,>=1.0 in /Users/ivanzhirnov/Downloads/ds_related/projects/langchain-experiments/env/lib/python3.11/site-packages (from aiohttp<4.0.0,>=3.8.3->langchain) (1.9.2)\n",
      "Requirement already satisfied: frozenlist>=1.1.1 in /Users/ivanzhirnov/Downloads/ds_related/projects/langchain-experiments/env/lib/python3.11/site-packages (from aiohttp<4.0.0,>=3.8.3->langchain) (1.3.3)\n",
      "Requirement already satisfied: aiosignal>=1.1.2 in /Users/ivanzhirnov/Downloads/ds_related/projects/langchain-experiments/env/lib/python3.11/site-packages (from aiohttp<4.0.0,>=3.8.3->langchain) (1.3.1)\n",
      "Requirement already satisfied: marshmallow<4.0.0,>=3.3.0 in /Users/ivanzhirnov/Downloads/ds_related/projects/langchain-experiments/env/lib/python3.11/site-packages (from dataclasses-json<0.6.0,>=0.5.7->langchain) (3.19.0)\n",
      "Requirement already satisfied: marshmallow-enum<2.0.0,>=1.5.1 in /Users/ivanzhirnov/Downloads/ds_related/projects/langchain-experiments/env/lib/python3.11/site-packages (from dataclasses-json<0.6.0,>=0.5.7->langchain) (1.5.1)\n",
      "Requirement already satisfied: typing-inspect>=0.4.0 in /Users/ivanzhirnov/Downloads/ds_related/projects/langchain-experiments/env/lib/python3.11/site-packages (from dataclasses-json<0.6.0,>=0.5.7->langchain) (0.8.0)\n",
      "Requirement already satisfied: protobuf<5.0dev,>=4.21.6 in /Users/ivanzhirnov/Downloads/ds_related/projects/langchain-experiments/env/lib/python3.11/site-packages (from grpcio-tools>=1.41.0->qdrant_client) (4.23.4)\n",
      "Requirement already satisfied: setuptools in /Users/ivanzhirnov/Downloads/ds_related/projects/langchain-experiments/env/lib/python3.11/site-packages (from grpcio-tools>=1.41.0->qdrant_client) (65.5.0)\n",
      "Requirement already satisfied: certifi in /Users/ivanzhirnov/Downloads/ds_related/projects/langchain-experiments/env/lib/python3.11/site-packages (from httpx[http2]>=0.14.0->qdrant_client) (2023.5.7)\n",
      "Requirement already satisfied: httpcore<0.18.0,>=0.15.0 in /Users/ivanzhirnov/Downloads/ds_related/projects/langchain-experiments/env/lib/python3.11/site-packages (from httpx[http2]>=0.14.0->qdrant_client) (0.17.3)\n",
      "Requirement already satisfied: idna in /Users/ivanzhirnov/Downloads/ds_related/projects/langchain-experiments/env/lib/python3.11/site-packages (from httpx[http2]>=0.14.0->qdrant_client) (3.4)\n",
      "Requirement already satisfied: sniffio in /Users/ivanzhirnov/Downloads/ds_related/projects/langchain-experiments/env/lib/python3.11/site-packages (from httpx[http2]>=0.14.0->qdrant_client) (1.3.0)\n",
      "Requirement already satisfied: h2<5,>=3 in /Users/ivanzhirnov/Downloads/ds_related/projects/langchain-experiments/env/lib/python3.11/site-packages (from httpx[http2]>=0.14.0->qdrant_client) (4.1.0)\n",
      "Requirement already satisfied: typing-extensions>=4.2.0 in /Users/ivanzhirnov/Downloads/ds_related/projects/langchain-experiments/env/lib/python3.11/site-packages (from pydantic<2,>=1->langchain) (4.5.0)\n",
      "Requirement already satisfied: greenlet!=0.4.17 in /Users/ivanzhirnov/Downloads/ds_related/projects/langchain-experiments/env/lib/python3.11/site-packages (from SQLAlchemy<3,>=1.4->langchain) (2.0.2)\n",
      "Requirement already satisfied: hyperframe<7,>=6.0 in /Users/ivanzhirnov/Downloads/ds_related/projects/langchain-experiments/env/lib/python3.11/site-packages (from h2<5,>=3->httpx[http2]>=0.14.0->qdrant_client) (6.0.1)\n",
      "Requirement already satisfied: hpack<5,>=4.0 in /Users/ivanzhirnov/Downloads/ds_related/projects/langchain-experiments/env/lib/python3.11/site-packages (from h2<5,>=3->httpx[http2]>=0.14.0->qdrant_client) (4.0.0)\n",
      "Requirement already satisfied: h11<0.15,>=0.13 in /Users/ivanzhirnov/Downloads/ds_related/projects/langchain-experiments/env/lib/python3.11/site-packages (from httpcore<0.18.0,>=0.15.0->httpx[http2]>=0.14.0->qdrant_client) (0.14.0)\n",
      "Requirement already satisfied: anyio<5.0,>=3.0 in /Users/ivanzhirnov/Downloads/ds_related/projects/langchain-experiments/env/lib/python3.11/site-packages (from httpcore<0.18.0,>=0.15.0->httpx[http2]>=0.14.0->qdrant_client) (3.6.2)\n",
      "Requirement already satisfied: packaging>=17.0 in /Users/ivanzhirnov/Downloads/ds_related/projects/langchain-experiments/env/lib/python3.11/site-packages (from marshmallow<4.0.0,>=3.3.0->dataclasses-json<0.6.0,>=0.5.7->langchain) (23.1)\n",
      "Requirement already satisfied: mypy-extensions>=0.3.0 in /Users/ivanzhirnov/Downloads/ds_related/projects/langchain-experiments/env/lib/python3.11/site-packages (from typing-inspect>=0.4.0->dataclasses-json<0.6.0,>=0.5.7->langchain) (1.0.0)\n",
      "\n",
      "\u001b[1m[\u001b[0m\u001b[34;49mnotice\u001b[0m\u001b[1;39;49m]\u001b[0m\u001b[39;49m A new release of pip is available: \u001b[0m\u001b[31;49m23.1.2\u001b[0m\u001b[39;49m -> \u001b[0m\u001b[32;49m23.2.1\u001b[0m\n",
      "\u001b[1m[\u001b[0m\u001b[34;49mnotice\u001b[0m\u001b[1;39;49m]\u001b[0m\u001b[39;49m To update, run: \u001b[0m\u001b[32;49mpip install --upgrade pip\u001b[0m\n"
     ]
    }
   ],
   "source": [
    "!pip install langchain qdrant_client openai tiktoken pypdf"
   ]
  },
  {
   "cell_type": "code",
   "execution_count": 22,
   "metadata": {},
   "outputs": [],
   "source": [
    "from langchain.vectorstores import Qdrant\n",
    "from langchain.embeddings.openai import OpenAIEmbeddings\n",
    "import qdrant_client\n",
    "import os\n",
    "from dotenv import load_dotenv\n",
    "from langchain.document_loaders import PyPDFLoader"
   ]
  },
  {
   "cell_type": "code",
   "execution_count": 6,
   "metadata": {},
   "outputs": [],
   "source": [
    "# Create a client with qdrant\n",
    "\n",
    "load_dotenv()\n",
    "\n",
    "client = qdrant_client.QdrantClient(\n",
    "    os.getenv(\"QDRANT_HOST\"), api_key=os.getenv(\"QDRANT_API\")\n",
    ")"
   ]
  },
  {
   "cell_type": "code",
   "execution_count": 8,
   "metadata": {},
   "outputs": [
    {
     "data": {
      "text/plain": [
       "True"
      ]
     },
     "execution_count": 8,
     "metadata": {},
     "output_type": "execute_result"
    }
   ],
   "source": [
    "# Create collection in the Cluster\n",
    "\n",
    "os.environ[\"QDRANT_COLLECTION_NAME\"] = \"vector_collection\"\n",
    "\n",
    "vectors_config = qdrant_client.http.models.VectorParams(\n",
    "    size=1536,\n",
    "    distance=qdrant_client.http.models.Distance.COSINE,\n",
    ")\n",
    "\n",
    "client.recreate_collection(\n",
    "    collection_name=os.getenv(\"QDRANT_COLLECTION_NAME\"),\n",
    "    vectors_config=vectors_config,\n",
    ")\n",
    "# Check with Thunder Client that collection has been created"
   ]
  },
  {
   "cell_type": "code",
   "execution_count": 10,
   "metadata": {},
   "outputs": [],
   "source": [
    "embeddings = OpenAIEmbeddings()\n",
    "\n",
    "# Initialize vector store object\n",
    "\n",
    "vector_store = Qdrant(\n",
    "    client=client,\n",
    "    collection_name=os.getenv(\"QDRANT_COLLECTION_NAME\"),\n",
    "    embeddings=embeddings,\n",
    ")"
   ]
  },
  {
   "cell_type": "code",
   "execution_count": 47,
   "metadata": {},
   "outputs": [],
   "source": [
    "# Load PDF into text\n",
    "loader = PyPDFLoader(\"/Users/ivanzhirnov/Downloads/paper.pdf\")\n",
    "pages = loader.load_and_split()\n",
    "text = \"\"\n",
    "for page in pages:\n",
    "    text += page.page_content"
   ]
  },
  {
   "cell_type": "code",
   "execution_count": 48,
   "metadata": {},
   "outputs": [],
   "source": [
    "# Add documents to vector store\n",
    "\n",
    "from langchain.text_splitter import CharacterTextSplitter\n",
    "\n",
    "\n",
    "def get_chunks(text):\n",
    "    text_splitter = CharacterTextSplitter(\n",
    "        separator=\"\\n\",\n",
    "        chunk_size=1000,\n",
    "        chunk_overlap=200,\n",
    "        length_function=len,\n",
    "    )\n",
    "\n",
    "    chunks = text_splitter.split_text(text)\n",
    "    return chunks\n",
    "\n",
    "\n",
    "texts = get_chunks(text)"
   ]
  },
  {
   "cell_type": "code",
   "execution_count": 60,
   "metadata": {},
   "outputs": [
    {
     "data": {
      "text/plain": [
       "'huo Fenga,⇑, Zhuoer Chenb,⇑, Benjamin Bircherc,Z eJ ia, Lars Nyborgb, Samuel Bigota aSchool of Engin'"
      ]
     },
     "execution_count": 60,
     "metadata": {},
     "output_type": "execute_result"
    }
   ],
   "source": [
    "pages[0].page_content[100:200].replace(\"\\n\", \" \")"
   ]
  },
  {
   "cell_type": "code",
   "execution_count": 62,
   "metadata": {},
   "outputs": [
    {
     "data": {
      "text/plain": [
       "['5de1bba09c63d1e74a422be678d454d1',\n",
       " 'f87a503ccc709c2048b40d811a931aaf',\n",
       " '806cc92753ed639123a3820f4f67039b',\n",
       " 'e3416a9f859eccb7032ddf488870362a',\n",
       " 'f81e308d21185dc07e245558849e3185',\n",
       " '8967857baa4e3591e34ecc8560e78ba5',\n",
       " '3e051127c1959c9055fed0efc2fc82b7',\n",
       " '38d2a25f87fad98192775bf1cb14a59c',\n",
       " '08a6b0110db0e85863a221b08ed0a1ef',\n",
       " '18db9a81847b01ce1f0e68eb74af5701',\n",
       " '4f307950b17e2c3500ebd3443b9dc9fc',\n",
       " 'c1f39ff0365b49b33fc7a04b5fb7e3fb',\n",
       " '41152e9e70c1fda83c95c6a69648bd41',\n",
       " '9272e14f4419c18eef93cda4e6d824be',\n",
       " 'b1862a70a07dbaacc1e1fc8291bc2386',\n",
       " '11dc9106276edfe69ee9b6f28328ecb3',\n",
       " 'b85ba11a7d9c7861ef7141bbb99d7395',\n",
       " '0f0b75988af2c9dbb021c6befaa0010c',\n",
       " '8fe827b4802ebf98e4a00804bf24bf2c',\n",
       " 'd12d846732b7e2ec625a178628dcc426',\n",
       " '990a07d822bcff318949535377cf3ef8',\n",
       " '465b4bc0493f4b5d1591831cd8572619',\n",
       " '6b1597b4fca3ab3262319f412563cef2',\n",
       " '9910c2b9602a6a4df4e98fb310c4f185',\n",
       " '7f35059a78f2a4ae6b36d08309c55ec7',\n",
       " 'bcb615b17102cfe77fe68df6a847ffb7',\n",
       " '8d608e9802f7564664cee1db8e685a39',\n",
       " '01c41b689c9e13516a65e334fd61293a',\n",
       " '9631a8b046c15d0f157c1b1e636361ee',\n",
       " '2cf002c25af477ee1d32296837ff629b',\n",
       " '399fbdf2087202719165aa382825053f',\n",
       " '2839a71493190d222253c17a490e163e',\n",
       " 'f0b7568223dc6691332a628227b42097',\n",
       " '461c2f51ae823a5c184e8d30731b3555',\n",
       " 'd4aff5d99d42fa4011882aa999c11ea7',\n",
       " 'f5f49d7f6244e3fff6776db3b98c1cc7',\n",
       " '1d359ba10335a7da0b7aaeccc88ec4bc',\n",
       " '78b6aad284c0115bc3647ebc858c0bd9',\n",
       " '5d32b9ae0ce1d3f744e09deb0b27a14e',\n",
       " '12c442d741f8a3879926d8074d165360',\n",
       " 'a6c169c6aceeb3c083cd03592b169415',\n",
       " 'd59c0ff1b592439636734b62b305c55e',\n",
       " 'ca8d0c8aad3df55b6b96d22228287598',\n",
       " '130c2acd267b00b4228cebd5180ab3e5',\n",
       " '96e13844bcdbb0f4037a42bf010939e9',\n",
       " '890ae24e735cdb99cf87faf4928b2634',\n",
       " '62580f045fe53a7c8fad295618b62423',\n",
       " 'e59c2fd775e2afac7438a990cc762789',\n",
       " 'b69e7619c132a8fba618ad4d3d5f2b55',\n",
       " '30be77c06789ac51c15445eadde92bad',\n",
       " '1090c8eebea5248a2ec14f617a28f397',\n",
       " 'dda1949ec1b8b0b688ab2696ed13a3ff',\n",
       " '567f6ed504b036019d899835ea776b5b',\n",
       " 'cdcadd2f8a177aa05e93e3aa81f8c1ca',\n",
       " '45c6ef76c47305556d04fbd9c616fd04']"
      ]
     },
     "execution_count": 62,
     "metadata": {},
     "output_type": "execute_result"
    }
   ],
   "source": [
    "# Add vectors to Qdrant collection\n",
    "vector_store.add_texts(texts)"
   ]
  },
  {
   "cell_type": "markdown",
   "metadata": {},
   "source": [
    "#### Connect vector store with prompt application"
   ]
  },
  {
   "cell_type": "code",
   "execution_count": 65,
   "metadata": {},
   "outputs": [],
   "source": [
    "# Plug vector store into retrieval chain\n",
    "\n",
    "from langchain.chains import RetrievalQA\n",
    "from langchain.llms import OpenAI\n",
    "\n",
    "qa = RetrievalQA.from_chain_type(\n",
    "    llm=OpenAI(), chain_type=\"stuff\", retriever=vector_store.as_retriever()\n",
    ")"
   ]
  },
  {
   "cell_type": "code",
   "execution_count": 71,
   "metadata": {},
   "outputs": [
    {
     "name": "stdout",
     "output_type": "stream",
     "text": [
      " The main output of this paper is an investigation of the influence of processing parameters on the formation of defects in laser powder bed fusion (LPBF) experiments conducted on an EOS M290 machine.\n"
     ]
    }
   ],
   "source": [
    "query = \"What is a main output of this paper?\"\n",
    "\n",
    "response = qa.run(query)\n",
    "\n",
    "print(response)"
   ]
  },
  {
   "cell_type": "code",
   "execution_count": null,
   "metadata": {},
   "outputs": [],
   "source": []
  }
 ],
 "metadata": {
  "kernelspec": {
   "display_name": "env",
   "language": "python",
   "name": "python3"
  },
  "language_info": {
   "codemirror_mode": {
    "name": "ipython",
    "version": 3
   },
   "file_extension": ".py",
   "mimetype": "text/x-python",
   "name": "python",
   "nbconvert_exporter": "python",
   "pygments_lexer": "ipython3",
   "version": "3.11.0"
  },
  "orig_nbformat": 4
 },
 "nbformat": 4,
 "nbformat_minor": 2
}
