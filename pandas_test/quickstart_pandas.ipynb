{
 "cells": [
  {
   "cell_type": "code",
   "execution_count": 1,
   "metadata": {},
   "outputs": [
    {
     "data": {
      "text/plain": [
       "True"
      ]
     },
     "execution_count": 1,
     "metadata": {},
     "output_type": "execute_result"
    }
   ],
   "source": [
    "from dotenv import find_dotenv, load_dotenv\n",
    "load_dotenv(find_dotenv())"
   ]
  },
  {
   "cell_type": "code",
   "execution_count": 2,
   "metadata": {},
   "outputs": [],
   "source": [
    "import pandas as pd\n",
    "from langchain.chat_models import ChatOpenAI\n",
    "from langchain.agents import create_pandas_dataframe_agent"
   ]
  },
  {
   "cell_type": "code",
   "execution_count": 3,
   "metadata": {},
   "outputs": [],
   "source": [
    "df = pd.read_csv(\"../pandas_test/orders.csv\")"
   ]
  },
  {
   "cell_type": "code",
   "execution_count": 4,
   "metadata": {},
   "outputs": [
    {
     "data": {
      "text/html": [
       "<div>\n",
       "<style scoped>\n",
       "    .dataframe tbody tr th:only-of-type {\n",
       "        vertical-align: middle;\n",
       "    }\n",
       "\n",
       "    .dataframe tbody tr th {\n",
       "        vertical-align: top;\n",
       "    }\n",
       "\n",
       "    .dataframe thead th {\n",
       "        text-align: right;\n",
       "    }\n",
       "</style>\n",
       "<table border=\"1\" class=\"dataframe\">\n",
       "  <thead>\n",
       "    <tr style=\"text-align: right;\">\n",
       "      <th></th>\n",
       "      <th>order_id</th>\n",
       "      <th>order_dow</th>\n",
       "      <th>order_hour_of_day</th>\n",
       "    </tr>\n",
       "  </thead>\n",
       "  <tbody>\n",
       "    <tr>\n",
       "      <th>0</th>\n",
       "      <td>1597</td>\n",
       "      <td>1</td>\n",
       "      <td>8</td>\n",
       "    </tr>\n",
       "    <tr>\n",
       "      <th>1</th>\n",
       "      <td>2011</td>\n",
       "      <td>4</td>\n",
       "      <td>10</td>\n",
       "    </tr>\n",
       "    <tr>\n",
       "      <th>2</th>\n",
       "      <td>2822</td>\n",
       "      <td>0</td>\n",
       "      <td>8</td>\n",
       "    </tr>\n",
       "    <tr>\n",
       "      <th>3</th>\n",
       "      <td>2889</td>\n",
       "      <td>1</td>\n",
       "      <td>15</td>\n",
       "    </tr>\n",
       "    <tr>\n",
       "      <th>4</th>\n",
       "      <td>3971</td>\n",
       "      <td>2</td>\n",
       "      <td>18</td>\n",
       "    </tr>\n",
       "  </tbody>\n",
       "</table>\n",
       "</div>"
      ],
      "text/plain": [
       "   order_id  order_dow  order_hour_of_day\n",
       "0      1597          1                  8\n",
       "1      2011          4                 10\n",
       "2      2822          0                  8\n",
       "3      2889          1                 15\n",
       "4      3971          2                 18"
      ]
     },
     "execution_count": 4,
     "metadata": {},
     "output_type": "execute_result"
    }
   ],
   "source": [
    "import pandas as pd\n",
    "\n",
    "def clean_data(df):\n",
    "    # Drop columns: 'days_since_prior_order', 'air fresheners candles' and 133 other columns\n",
    "    df.drop(columns=['days_since_prior_order', 'air fresheners candles', 'asian foods', 'baby accessories', 'baby bath body care', 'baby food formula', 'bakery desserts', 'baking ingredients', 'baking supplies decor', 'beauty', 'beers coolers', 'body lotions soap', 'bread', 'breakfast bakery', 'breakfast bars pastries', 'bulk dried fruits vegetables', 'bulk grains rice dried goods', 'buns rolls', 'butter', 'candy chocolate', 'canned fruit applesauce', 'canned jarred vegetables', 'canned meals beans', 'canned meat seafood', 'cat food care', 'cereal', 'chips pretzels', 'cleaning products', 'cocoa drink mixes', 'coffee', 'cold flu allergy', 'condiments', 'cookies cakes', 'crackers', 'cream', 'deodorants', 'diapers wipes', 'digestion', 'dish detergents', 'dog food care', 'doughs gelatins bake mixes', 'dry pasta', 'eggs', 'energy granola bars', 'energy sports drinks', 'eye ear care', 'facial care', 'feminine care', 'first aid', 'food storage', 'fresh dips tapenades', 'fresh fruits', 'fresh herbs', 'fresh pasta', 'fresh vegetables', 'frozen appetizers sides', 'frozen breads doughs', 'frozen breakfast', 'frozen dessert', 'frozen juice', 'frozen meals', 'frozen meat seafood', 'frozen pizza', 'frozen produce', 'frozen vegan vegetarian', 'fruit vegetable snacks', 'grains rice dried goods', 'granola', 'hair care', 'honeys syrups nectars', 'hot cereal pancake mixes', 'hot dogs bacon sausage', 'ice cream ice', 'ice cream toppings', 'indian foods', 'instant foods', 'juice nectars', 'kitchen supplies', 'kosher foods', 'latino foods', 'laundry', 'lunch meat', 'marinades meat preparation', 'meat counter', 'milk', 'mint gum', 'missing', 'more household', 'muscles joints pain relief', 'nuts seeds dried fruit', 'oils vinegars', 'oral hygiene', 'other', 'other creams cheeses', 'packaged cheese', 'packaged meat', 'packaged poultry', 'packaged produce', 'packaged seafood', 'packaged vegetables fruits', 'paper goods', 'pasta sauce', 'pickled goods olives', 'plates bowls cups flatware', 'popcorn jerky', 'poultry counter', 'prepared meals', 'prepared soups salads', 'preserved dips spreads', 'protein meal replacements', 'red wines', 'refrigerated', 'refrigerated pudding desserts', 'salad dressing toppings', 'seafood counter', 'shave needs', 'skin care', 'soap', 'soft drinks', 'soup broth bouillon', 'soy lactosefree', 'specialty cheeses', 'specialty wines champagnes', 'spices seasonings', 'spirits', 'spreads', 'tea', 'tofu meat alternatives', 'tortillas flat bread', 'trail mix snack mix', 'trash bags liners', 'vitamins supplements', 'water seltzer sparkling water', 'white wines', 'yogurt'], inplace=True)\n",
    "    return df\n",
    "\n",
    "df = clean_data(df.copy())\n",
    "df.head()"
   ]
  },
  {
   "cell_type": "code",
   "execution_count": 14,
   "metadata": {},
   "outputs": [],
   "source": [
    "from random import seed\n",
    "from random import randint"
   ]
  },
  {
   "cell_type": "code",
   "execution_count": 21,
   "metadata": {},
   "outputs": [
    {
     "data": {
      "text/html": [
       "<div>\n",
       "<style scoped>\n",
       "    .dataframe tbody tr th:only-of-type {\n",
       "        vertical-align: middle;\n",
       "    }\n",
       "\n",
       "    .dataframe tbody tr th {\n",
       "        vertical-align: top;\n",
       "    }\n",
       "\n",
       "    .dataframe thead th {\n",
       "        text-align: right;\n",
       "    }\n",
       "</style>\n",
       "<table border=\"1\" class=\"dataframe\">\n",
       "  <thead>\n",
       "    <tr style=\"text-align: right;\">\n",
       "      <th></th>\n",
       "      <th>order_id</th>\n",
       "      <th>order_dow</th>\n",
       "      <th>order_hour_of_day</th>\n",
       "      <th>price</th>\n",
       "    </tr>\n",
       "  </thead>\n",
       "  <tbody>\n",
       "    <tr>\n",
       "      <th>0</th>\n",
       "      <td>1597</td>\n",
       "      <td>1</td>\n",
       "      <td>8</td>\n",
       "      <td>18</td>\n",
       "    </tr>\n",
       "    <tr>\n",
       "      <th>1</th>\n",
       "      <td>2011</td>\n",
       "      <td>4</td>\n",
       "      <td>10</td>\n",
       "      <td>73</td>\n",
       "    </tr>\n",
       "    <tr>\n",
       "      <th>2</th>\n",
       "      <td>2822</td>\n",
       "      <td>0</td>\n",
       "      <td>8</td>\n",
       "      <td>98</td>\n",
       "    </tr>\n",
       "    <tr>\n",
       "      <th>3</th>\n",
       "      <td>2889</td>\n",
       "      <td>1</td>\n",
       "      <td>15</td>\n",
       "      <td>9</td>\n",
       "    </tr>\n",
       "    <tr>\n",
       "      <th>4</th>\n",
       "      <td>3971</td>\n",
       "      <td>2</td>\n",
       "      <td>18</td>\n",
       "      <td>33</td>\n",
       "    </tr>\n",
       "    <tr>\n",
       "      <th>...</th>\n",
       "      <td>...</td>\n",
       "      <td>...</td>\n",
       "      <td>...</td>\n",
       "      <td>...</td>\n",
       "    </tr>\n",
       "    <tr>\n",
       "      <th>4995</th>\n",
       "      <td>3419893</td>\n",
       "      <td>5</td>\n",
       "      <td>19</td>\n",
       "      <td>80</td>\n",
       "    </tr>\n",
       "    <tr>\n",
       "      <th>4996</th>\n",
       "      <td>3420158</td>\n",
       "      <td>0</td>\n",
       "      <td>14</td>\n",
       "      <td>33</td>\n",
       "    </tr>\n",
       "    <tr>\n",
       "      <th>4997</th>\n",
       "      <td>3420769</td>\n",
       "      <td>2</td>\n",
       "      <td>17</td>\n",
       "      <td>92</td>\n",
       "    </tr>\n",
       "    <tr>\n",
       "      <th>4998</th>\n",
       "      <td>3420894</td>\n",
       "      <td>0</td>\n",
       "      <td>14</td>\n",
       "      <td>19</td>\n",
       "    </tr>\n",
       "    <tr>\n",
       "      <th>4999</th>\n",
       "      <td>3420909</td>\n",
       "      <td>0</td>\n",
       "      <td>19</td>\n",
       "      <td>92</td>\n",
       "    </tr>\n",
       "  </tbody>\n",
       "</table>\n",
       "<p>5000 rows × 4 columns</p>\n",
       "</div>"
      ],
      "text/plain": [
       "      order_id  order_dow  order_hour_of_day  price\n",
       "0         1597          1                  8     18\n",
       "1         2011          4                 10     73\n",
       "2         2822          0                  8     98\n",
       "3         2889          1                 15      9\n",
       "4         3971          2                 18     33\n",
       "...        ...        ...                ...    ...\n",
       "4995   3419893          5                 19     80\n",
       "4996   3420158          0                 14     33\n",
       "4997   3420769          2                 17     92\n",
       "4998   3420894          0                 14     19\n",
       "4999   3420909          0                 19     92\n",
       "\n",
       "[5000 rows x 4 columns]"
      ]
     },
     "execution_count": 21,
     "metadata": {},
     "output_type": "execute_result"
    }
   ],
   "source": [
    "# Create a column price with random values\n",
    "seed(1)\n",
    "df['price'] = df['order_id'].apply(lambda x: randint(1, 100))\n",
    "df"
   ]
  },
  {
   "cell_type": "code",
   "execution_count": 22,
   "metadata": {},
   "outputs": [],
   "source": [
    "chat = ChatOpenAI(model_name=\"gpt-3.5-turbo\", temperature=0.0)\n",
    "agent = create_pandas_dataframe_agent(chat, df, verbose=True)"
   ]
  },
  {
   "cell_type": "code",
   "execution_count": 17,
   "metadata": {},
   "outputs": [
    {
     "name": "stdout",
     "output_type": "stream",
     "text": [
      "\n",
      "\n",
      "\u001b[1m> Entering new AgentExecutor chain...\u001b[0m\n",
      "\u001b[32;1m\u001b[1;3mThought: I need to sum up the 'price' column of the dataframe\n",
      "Action: python_repl_ast\n",
      "Action Input: df['price'].sum()\u001b[0m\n",
      "Observation: \u001b[36;1m\u001b[1;3m252048\u001b[0m\n",
      "Thought:\u001b[32;1m\u001b[1;3mI have the sum of all prices, but I need to provide it as the final answer\n",
      "Final Answer: 252048\u001b[0m\n",
      "\n",
      "\u001b[1m> Finished chain.\u001b[0m\n"
     ]
    },
    {
     "data": {
      "text/plain": [
       "'252048'"
      ]
     },
     "execution_count": 17,
     "metadata": {},
     "output_type": "execute_result"
    }
   ],
   "source": [
    "agent.run(\"What is the total price generated from all orders?\")"
   ]
  },
  {
   "cell_type": "code",
   "execution_count": 18,
   "metadata": {},
   "outputs": [
    {
     "data": {
      "text/plain": [
       "252048"
      ]
     },
     "execution_count": 18,
     "metadata": {},
     "output_type": "execute_result"
    }
   ],
   "source": [
    "df['price'].sum()"
   ]
  },
  {
   "cell_type": "code",
   "execution_count": null,
   "metadata": {},
   "outputs": [],
   "source": [
    "agent.run(\"What is the average price generated from all orders?\")"
   ]
  },
  {
   "cell_type": "code",
   "execution_count": 31,
   "metadata": {},
   "outputs": [
    {
     "data": {
      "text/plain": [
       "'eodia'"
      ]
     },
     "execution_count": 31,
     "metadata": {},
     "output_type": "execute_result"
    }
   ],
   "source": [
    "\"palindrome\"[::-2]"
   ]
  },
  {
   "cell_type": "code",
   "execution_count": null,
   "metadata": {},
   "outputs": [],
   "source": []
  }
 ],
 "metadata": {
  "kernelspec": {
   "display_name": "env",
   "language": "python",
   "name": "python3"
  },
  "language_info": {
   "codemirror_mode": {
    "name": "ipython",
    "version": 3
   },
   "file_extension": ".py",
   "mimetype": "text/x-python",
   "name": "python",
   "nbconvert_exporter": "python",
   "pygments_lexer": "ipython3",
   "version": "3.11.0"
  },
  "orig_nbformat": 4
 },
 "nbformat": 4,
 "nbformat_minor": 2
}
